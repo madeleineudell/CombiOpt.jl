{
 "cells": [
  {
   "cell_type": "code",
   "execution_count": 3,
   "metadata": {},
   "outputs": [
    {
     "name": "stdout",
     "output_type": "stream",
     "text": [
      "# NAME: be50.1\n",
      "# COMMENT: Beasley instances from ORLIB. Converted to a MAX-CUT problem.\n"
     ]
    }
   ],
   "source": [
    "f = open(\"graphs/be50.1.txt\");\n",
    "\n",
    "a = readline(f)\n",
    "b = readline(f)\n",
    "println(a)\n",
    "println(b)\n",
    "close(f)"
   ]
  },
  {
   "cell_type": "code",
   "execution_count": null,
   "metadata": {
    "collapsed": true
   },
   "outputs": [],
   "source": []
  }
 ],
 "metadata": {
  "kernelspec": {
   "display_name": "Julia 0.6.0",
   "language": "julia",
   "name": "julia-0.6"
  },
  "language_info": {
   "file_extension": ".jl",
   "mimetype": "application/julia",
   "name": "julia",
   "version": "0.6.0"
  }
 },
 "nbformat": 4,
 "nbformat_minor": 2
}
