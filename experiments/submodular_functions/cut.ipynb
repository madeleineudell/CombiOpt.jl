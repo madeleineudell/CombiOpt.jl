{
 "cells": [
  {
   "cell_type": "code",
   "execution_count": 160,
   "metadata": {
    "collapsed": true
   },
   "outputs": [],
   "source": [
    "using CombiOpt"
   ]
  },
  {
   "cell_type": "code",
   "execution_count": 161,
   "metadata": {},
   "outputs": [
    {
     "data": {
      "text/plain": [
       "converter (generic function with 1 method)"
      ]
     },
     "execution_count": 161,
     "metadata": {},
     "output_type": "execute_result"
    }
   ],
   "source": [
    "function converter(ln::String)\n",
    "  arr = Int[]\n",
    "  space = find(x -> isspace(x), ln)\n",
    "  push!(space, length(ln)+1)\n",
    "  ind = 1\n",
    "  for i in space\n",
    "    push!(arr, parse(Int, ln[ind:i-1]))\n",
    "    ind = i + 1\n",
    "  end\n",
    "  return arr\n",
    "end"
   ]
  },
  {
   "cell_type": "code",
   "execution_count": 162,
   "metadata": {},
   "outputs": [
    {
     "data": {
      "text/plain": [
       "load_txt (generic function with 1 method)"
      ]
     },
     "execution_count": 162,
     "metadata": {},
     "output_type": "execute_result"
    }
   ],
   "source": [
    "function load_txt(txtname::String)\n",
    "  opener = open(\"graphs/$txtname.txt\")\n",
    "  file = readlines(opener)\n",
    "  graph = Array{Int64,1}[]\n",
    "  for i = 3:length(file)\n",
    "    push!(graph, converter(file[i]))\n",
    "  end\n",
    "  return graph\n",
    "  close(opener)\n",
    "end"
   ]
  },
  {
   "cell_type": "code",
   "execution_count": 163,
   "metadata": {},
   "outputs": [
    {
     "data": {
      "text/plain": [
       "load_graph (generic function with 1 method)"
      ]
     },
     "execution_count": 163,
     "metadata": {},
     "output_type": "execute_result"
    }
   ],
   "source": [
    "function load_graph(txtname::String)\n",
    "  graph = load_txt(\"$txtname\")\n",
    "  G = WeightedGraph(graph[1][1])\n",
    "  for i = 2:graph[1][2]+1\n",
    "    add_edge!(G, graph[i][1], graph[i][2], abs(graph[i][3]))\n",
    "  end\n",
    "  return G\n",
    "end"
   ]
  },
  {
   "cell_type": "code",
   "execution_count": 167,
   "metadata": {},
   "outputs": [
    {
     "data": {
      "text/plain": [
       "SubmodFunc with\n",
       "head: cut\n",
       "size: (1, 1)\n",
       "sign: Convex.NoSign()\n",
       "modularity: CombiOpt.SubModularity()\n"
      ]
     },
     "execution_count": 167,
     "metadata": {},
     "output_type": "execute_result"
    }
   ],
   "source": [
    "G = load_graph(\"be50.1\")\n",
    "S = SetVariable(nv(G))\n",
    "F = cut(G, S)"
   ]
  }
 ],
 "metadata": {
  "kernelspec": {
   "display_name": "Julia 0.6.0",
   "language": "julia",
   "name": "julia-0.6"
  },
  "language_info": {
   "file_extension": ".jl",
   "mimetype": "application/julia",
   "name": "julia",
   "version": "0.6.0"
  }
 },
 "nbformat": 4,
 "nbformat_minor": 2
}
