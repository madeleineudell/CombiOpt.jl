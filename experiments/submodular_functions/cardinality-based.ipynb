{
 "cells": [
  {
   "cell_type": "code",
   "execution_count": 3,
   "metadata": {
    "collapsed": true
   },
   "outputs": [],
   "source": [
    "using CombiOpt\n",
    "using Convex"
   ]
  },
  {
   "cell_type": "code",
   "execution_count": 2,
   "metadata": {
    "collapsed": true
   },
   "outputs": [],
   "source": [
    "n = 500\n",
    "S = SetVariable(n)\n",
    "F = card(S);"
   ]
  },
  {
   "cell_type": "code",
   "execution_count": 113,
   "metadata": {
    "collapsed": true
   },
   "outputs": [],
   "source": [
    "p(z) = -0.5*z^2 + n*z + 0.5 * z\n",
    "perm_func = compose(p, F);"
   ]
  },
  {
   "cell_type": "code",
   "execution_count": 114,
   "metadata": {
    "collapsed": true
   },
   "outputs": [],
   "source": [
    "x = Variable(n)\n",
    "g = norm(x);"
   ]
  },
  {
   "cell_type": "code",
   "execution_count": 115,
   "metadata": {
    "collapsed": true
   },
   "outputs": [],
   "source": [
    "p_perm = BasePoly(perm_func);"
   ]
  },
  {
   "cell_type": "code",
   "execution_count": 116,
   "metadata": {},
   "outputs": [
    {
     "name": "stdout",
     "output_type": "stream",
     "text": [
      "  0.059759 seconds (67.56 k allocations: 12.121 MiB, 8.07% gc time)\n"
     ]
    }
   ],
   "source": [
    "@time prox(p_perm, zeros(n), solver = \"card_inc_fix\");"
   ]
  },
  {
   "cell_type": "code",
   "execution_count": 117,
   "metadata": {},
   "outputs": [
    {
     "name": "stdout",
     "output_type": "stream",
     "text": [
      "  0.239884 seconds (337.96 k allocations: 64.055 MiB, 5.87% gc time)\n"
     ]
    }
   ],
   "source": [
    "@time prox(p_perm, zeros(n), solver = \"fujishige_wolfe\");"
   ]
  },
  {
   "cell_type": "code",
   "execution_count": 118,
   "metadata": {},
   "outputs": [
    {
     "name": "stdout",
     "output_type": "stream",
     "text": [
      "  0.287499 seconds (407.94 k allocations: 73.387 MiB, 4.87% gc time)\n"
     ]
    }
   ],
   "source": [
    "@time prox(p_perm, zeros(n), solver = \"frank_wolfe_away\");"
   ]
  },
  {
   "cell_type": "code",
   "execution_count": 119,
   "metadata": {},
   "outputs": [
    {
     "name": "stdout",
     "output_type": "stream",
     "text": [
      "  0.403505 seconds (584.39 k allocations: 101.152 MiB, 6.37% gc time)\n"
     ]
    }
   ],
   "source": [
    "@time prox(p_perm, zeros(n), solver = \"cutting_plane\");"
   ]
  },
  {
   "cell_type": "code",
   "execution_count": 120,
   "metadata": {
    "collapsed": true
   },
   "outputs": [],
   "source": [
    "k = n/2\n",
    "k_func(z) = min(k, z)\n",
    "k_simplex = compose(k_func, F);"
   ]
  },
  {
   "cell_type": "code",
   "execution_count": 121,
   "metadata": {
    "collapsed": true
   },
   "outputs": [],
   "source": [
    "p_k = BasePoly(k_simplex);"
   ]
  },
  {
   "cell_type": "code",
   "execution_count": 122,
   "metadata": {},
   "outputs": [
    {
     "name": "stdout",
     "output_type": "stream",
     "text": [
      "  0.016635 seconds (17.06 k allocations: 8.901 MiB)\n"
     ]
    }
   ],
   "source": [
    "@time prox(p_k, zeros(n), solver = \"card_inc_fix\");"
   ]
  },
  {
   "cell_type": "code",
   "execution_count": 123,
   "metadata": {},
   "outputs": [
    {
     "name": "stdout",
     "output_type": "stream",
     "text": [
      "  0.095965 seconds (84.90 k allocations: 45.770 MiB, 10.97% gc time)\n"
     ]
    }
   ],
   "source": [
    "@time prox(p_k, zeros(n), solver = \"fujishige_wolfe\");"
   ]
  },
  {
   "cell_type": "code",
   "execution_count": 124,
   "metadata": {},
   "outputs": [
    {
     "name": "stdout",
     "output_type": "stream",
     "text": [
      "  0.121874 seconds (104.66 k allocations: 54.050 MiB, 12.06% gc time)\n"
     ]
    }
   ],
   "source": [
    "@time prox(p_k, zeros(n), solver = \"frank_wolfe_away\");"
   ]
  },
  {
   "cell_type": "code",
   "execution_count": 125,
   "metadata": {},
   "outputs": [
    {
     "name": "stdout",
     "output_type": "stream",
     "text": [
      "  0.184307 seconds (177.07 k allocations: 74.087 MiB, 8.30% gc time)\n"
     ]
    }
   ],
   "source": [
    "@time prox(p_k, zeros(n), solver = \"cutting_plane\");"
   ]
  }
 ],
 "metadata": {
  "kernelspec": {
   "display_name": "Julia 0.6.0",
   "language": "julia",
   "name": "julia-0.6"
  },
  "language_info": {
   "file_extension": ".jl",
   "mimetype": "application/julia",
   "name": "julia",
   "version": "0.6.0"
  }
 },
 "nbformat": 4,
 "nbformat_minor": 2
}
