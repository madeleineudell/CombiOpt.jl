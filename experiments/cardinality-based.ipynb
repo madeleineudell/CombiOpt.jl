{
 "cells": [
  {
   "cell_type": "code",
   "execution_count": 11,
   "metadata": {
    "collapsed": true
   },
   "outputs": [],
   "source": [
    "using CombiOpt\n",
    "using Convex"
   ]
  },
  {
   "cell_type": "code",
   "execution_count": 12,
   "metadata": {},
   "outputs": [],
   "source": [
    "n = 2000\n",
    "S = SetVariable(n)\n",
    "F = card(S);"
   ]
  },
  {
   "cell_type": "code",
   "execution_count": 13,
   "metadata": {},
   "outputs": [],
   "source": [
    "p(z) = -0.5*z^2 + 3*z + 0.5 * z\n",
    "perm_func = compose(p, F);"
   ]
  },
  {
   "cell_type": "code",
   "execution_count": 14,
   "metadata": {},
   "outputs": [],
   "source": [
    "k = n/2\n",
    "k_func(z) = min(k, z)\n",
    "k_simplex = compose(k_func, F);"
   ]
  },
  {
   "cell_type": "code",
   "execution_count": 15,
   "metadata": {},
   "outputs": [],
   "source": [
    "x = Variable(n)\n",
    "g = norm(x);"
   ]
  },
  {
   "cell_type": "code",
   "execution_count": 16,
   "metadata": {},
   "outputs": [],
   "source": [
    "p_perm = BasePoly(perm_func);"
   ]
  },
  {
   "cell_type": "code",
   "execution_count": 17,
   "metadata": {},
   "outputs": [
    {
     "name": "stdout",
     "output_type": "stream",
     "text": [
      "  0.356846 seconds (277.36 k allocations: 134.957 MiB, 5.92% gc time)\n"
     ]
    }
   ],
   "source": [
    "@time card_inc_fix(perm_func, zeros(n), \"euclidean\");"
   ]
  },
  {
   "cell_type": "code",
   "execution_count": 18,
   "metadata": {},
   "outputs": [
    {
     "name": "stdout",
     "output_type": "stream",
     "text": [
      "  2.223224 seconds (1.47 M allocations: 695.055 MiB, 4.80% gc time)\n"
     ]
    }
   ],
   "source": [
    "@time minimum_norm_point(p_perm, zeros(n), algo = \"Fujishige\");"
   ]
  },
  {
   "cell_type": "code",
   "execution_count": 19,
   "metadata": {
    "collapsed": true
   },
   "outputs": [],
   "source": [
    "p_k = BasePoly(k_simplex);"
   ]
  },
  {
   "cell_type": "code",
   "execution_count": 20,
   "metadata": {},
   "outputs": [
    {
     "name": "stdout",
     "output_type": "stream",
     "text": [
      "  0.235561 seconds (75.69 k allocations: 122.084 MiB, 5.14% gc time)\n"
     ]
    }
   ],
   "source": [
    "@time card_inc_fix(k_simplex, zeros(n), \"euclidean\");"
   ]
  },
  {
   "cell_type": "code",
   "execution_count": 21,
   "metadata": {},
   "outputs": [
    {
     "name": "stdout",
     "output_type": "stream",
     "text": [
      "  1.268327 seconds (379.61 k allocations: 625.812 MiB, 6.09% gc time)\n"
     ]
    }
   ],
   "source": [
    "@time minimum_norm_point(p_k, zeros(n), algo = \"Fujishige\");"
   ]
  },
  {
   "cell_type": "code",
   "execution_count": null,
   "metadata": {
    "collapsed": true
   },
   "outputs": [],
   "source": [
    "prob_perm = SCOPEminimize(g, x in p_perm)\n",
    "frank_wolfe_away(prob_perm);"
   ]
  }
 ],
 "metadata": {
  "kernelspec": {
   "display_name": "Julia 0.6.0",
   "language": "julia",
   "name": "julia-0.6"
  },
  "language_info": {
   "file_extension": ".jl",
   "mimetype": "application/julia",
   "name": "julia",
   "version": "0.6.0"
  }
 },
 "nbformat": 4,
 "nbformat_minor": 2
}
