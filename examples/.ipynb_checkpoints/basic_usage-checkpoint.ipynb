{
 "cells": [
  {
   "cell_type": "code",
   "execution_count": 1,
   "metadata": {
    "collapsed": true
   },
   "outputs": [],
   "source": [
    "using CombiOpt"
   ]
  },
  {
   "cell_type": "markdown",
   "metadata": {},
   "source": [
    "### Set variables and set functions\n",
    "$$\n",
    "F(\\alpha, A) = \\sum\\limits_{i \\in A}\\alpha_{i}\n",
    "$$"
   ]
  },
  {
   "cell_type": "code",
   "execution_count": 2,
   "metadata": {},
   "outputs": [
    {
     "data": {
      "text/plain": [
       "CombiFunc with\n",
       "head: modular\n",
       "size: (1, 1)\n",
       "sign: Convex.NoSign()\n",
       "modularity: CombiOpt.Modularity()\n"
      ]
     },
     "execution_count": 2,
     "metadata": {},
     "output_type": "execute_result"
    }
   ],
   "source": [
    "n = 4\n",
    "V = SetVariable(n)\n",
    "α = [1, 2, 3, 4]\n",
    "mod_func = modular(α, V)"
   ]
  },
  {
   "cell_type": "code",
   "execution_count": 3,
   "metadata": {},
   "outputs": [
    {
     "data": {
      "text/plain": [
       "1×1 Array{Float64,2}:\n",
       " 4.0"
      ]
     },
     "execution_count": 3,
     "metadata": {},
     "output_type": "execute_result"
    }
   ],
   "source": [
    "evaluate(mod_func, [1, 3])"
   ]
  },
  {
   "cell_type": "markdown",
   "metadata": {},
   "source": [
    "### Cardinality-based functions\n",
    "$$\n",
    "p(z) = -0.5z^2 + nz + 0.5z \\\\\n",
    "perm\\mbox{_}func(A) = p(|A|)\n",
    "$$"
   ]
  },
  {
   "cell_type": "code",
   "execution_count": 4,
   "metadata": {},
   "outputs": [
    {
     "data": {
      "text/plain": [
       "CombiFunc with\n",
       "head: card\n",
       "size: (1, 1)\n",
       "sign: Convex.NoSign()\n",
       "modularity: CombiOpt.SubModularity()\n"
      ]
     },
     "execution_count": 4,
     "metadata": {},
     "output_type": "execute_result"
    }
   ],
   "source": [
    "p(z) = -0.5*z^2 + n*z + 0.5 * z\n",
    "perm_func = compose(p, card(V))"
   ]
  },
  {
   "cell_type": "markdown",
   "metadata": {},
   "source": [
    "### Associated polyhedra\n",
    "$$\n",
    "SubmodPoly(F) = \\{x \\in \\mathbb{R}^{|V|},\\ \\forall A \\subseteq V,\\ x(A) \\leq F(A)\\}\n",
    "$$"
   ]
  },
  {
   "cell_type": "code",
   "execution_count": 5,
   "metadata": {},
   "outputs": [
    {
     "data": {
      "text/plain": [
       "AssocPoly with\n",
       "head: subpoly\n",
       "baseset: [1, 2, 3, 4]\n",
       "associated to CombiFunc with\n",
       "head: modular\n",
       "size: (1, 1)\n",
       "sign: Convex.NoSign()\n",
       "modularity: CombiOpt.Modularity()\n"
      ]
     },
     "execution_count": 5,
     "metadata": {},
     "output_type": "execute_result"
    }
   ],
   "source": [
    "P = SubmodPoly(mod_func)"
   ]
  },
  {
   "cell_type": "code",
   "execution_count": 6,
   "metadata": {},
   "outputs": [
    {
     "data": {
      "text/plain": [
       "(false, true)"
      ]
     },
     "execution_count": 6,
     "metadata": {},
     "output_type": "execute_result"
    }
   ],
   "source": [
    "in(P, [1, 2, 4, 3]), in(P, [1, 2, 3, 3])"
   ]
  },
  {
   "cell_type": "markdown",
   "metadata": {},
   "source": [
    "### Lovasz extensions\n",
    "arrange elements of $x$ such that\n",
    "$$\n",
    "x_{j_{1}} \\geq x_{j_{2}} \\geq \\dots \\geq x_{j_{n}}\n",
    "$$\n",
    "we have\n",
    "$$\n",
    "f(x) = lovasz(mod\\mbox{_}func)(x) = \\sum\\limits_{i = 1}^{n}x_{i}(F(\\{j_{1}, j_{2}, \\dots, j_{i}\\}) - F(\\{j_{1}, j_{2}, \\dots, j_{i-1}\\}))\n",
    "$$"
   ]
  },
  {
   "cell_type": "code",
   "execution_count": 7,
   "metadata": {},
   "outputs": [
    {
     "data": {
      "text/plain": [
       "AbstractExpr with\n",
       "head: lovasz\n",
       "size: (1, 1)\n",
       "sign: Convex.NoSign()\n",
       "vexity: Convex.AffineVexity()\n"
      ]
     },
     "execution_count": 7,
     "metadata": {},
     "output_type": "execute_result"
    }
   ],
   "source": [
    "x = Variable(n)\n",
    "f = lovasz(mod_func, x)"
   ]
  },
  {
   "cell_type": "code",
   "execution_count": 8,
   "metadata": {},
   "outputs": [
    {
     "data": {
      "text/plain": [
       "1×1 Array{Float64,2}:\n",
       " 15.0"
      ]
     },
     "execution_count": 8,
     "metadata": {},
     "output_type": "execute_result"
    }
   ],
   "source": [
    "evaluate(f, [3.5, 2.5, 1.5, 0.5])"
   ]
  },
  {
   "cell_type": "markdown",
   "metadata": {},
   "source": [
    "### Writing down and solving problems"
   ]
  },
  {
   "cell_type": "code",
   "execution_count": 9,
   "metadata": {},
   "outputs": [
    {
     "data": {
      "text/plain": [
       "CombiOpt.SCOPEPrimal(:minimize, AbstractExpr with\n",
       "head: +\n",
       "size: (1, 1)\n",
       "sign: Convex.NoSign()\n",
       "vexity: Convex.ConvexVexity()\n",
       ", Convex.Constraint[], Symbol(\"not yet solved\"), nothing, CombiOpt.ConvexLovasz(Problem:\n",
       "minimize AbstractExpr with\n",
       "head: qol_elem\n",
       "size: (1, 1)\n",
       "sign: Convex.Positive()\n",
       "vexity: Convex.ConvexVexity()\n",
       "\n",
       "subject to\n",
       "\n",
       "current status: not yet solved, AbstractExpr with\n",
       "head: lovasz\n",
       "size: (1, 1)\n",
       "sign: Convex.NoSign()\n",
       "vexity: Convex.AffineVexity()\n",
       "), #undef)"
      ]
     },
     "execution_count": 9,
     "metadata": {},
     "output_type": "execute_result"
    }
   ],
   "source": [
    "centre = n * rand(n)\n",
    "g = norm(x - centre)^2\n",
    "func = g + f\n",
    "prob = min(func)"
   ]
  },
  {
   "cell_type": "code",
   "execution_count": 10,
   "metadata": {},
   "outputs": [
    {
     "data": {
      "text/plain": [
       "4-element Array{Float64,1}:\n",
       "  2.95528 \n",
       "  2.93971 \n",
       " -0.224211\n",
       " -1.86106 "
      ]
     },
     "execution_count": 10,
     "metadata": {},
     "output_type": "execute_result"
    }
   ],
   "source": [
    "solve!(prob)"
   ]
  }
 ],
 "metadata": {
  "kernelspec": {
   "display_name": "Julia 0.6.0",
   "language": "julia",
   "name": "julia-0.6"
  },
  "language_info": {
   "file_extension": ".jl",
   "mimetype": "application/julia",
   "name": "julia",
   "version": "0.6.0"
  }
 },
 "nbformat": 4,
 "nbformat_minor": 2
}
