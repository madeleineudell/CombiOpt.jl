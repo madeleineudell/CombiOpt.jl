{
 "cells": [
  {
   "cell_type": "code",
   "execution_count": 1,
   "metadata": {
    "collapsed": true
   },
   "outputs": [],
   "source": [
    "using CombiOpt"
   ]
  },
  {
   "cell_type": "markdown",
   "metadata": {},
   "source": [
    "### Set variables and set functions\n",
    "A modular function\n",
    "$$\n",
    "F(\\alpha, A) = \\sum\\limits_{i \\in A}\\alpha_{i}\n",
    "$$\n",
    "is easy to implement."
   ]
  },
  {
   "cell_type": "code",
   "execution_count": 2,
   "metadata": {},
   "outputs": [
    {
     "data": {
      "text/plain": [
       "SubmodFunc with\n",
       "head: modular\n",
       "size: (1, 1)\n",
       "sign: Convex.Positive()\n",
       "modularity: CombiOpt.Modularity()\n"
      ]
     },
     "execution_count": 2,
     "metadata": {},
     "output_type": "execute_result"
    }
   ],
   "source": [
    "n = 4\n",
    "V = SetVariable(n)\n",
    "α = [1, 2, 3, 4]\n",
    "mod_func = modular(α, V)"
   ]
  },
  {
   "cell_type": "code",
   "execution_count": 3,
   "metadata": {},
   "outputs": [
    {
     "data": {
      "text/plain": [
       "4.0"
      ]
     },
     "execution_count": 3,
     "metadata": {},
     "output_type": "execute_result"
    }
   ],
   "source": [
    "evaluate(mod_func, [1, 3])"
   ]
  },
  {
   "cell_type": "code",
   "execution_count": 4,
   "metadata": {},
   "outputs": [
    {
     "data": {
      "text/plain": [
       "2-element Array{Int64,1}:\n",
       " 1\n",
       " 3"
      ]
     },
     "execution_count": 4,
     "metadata": {},
     "output_type": "execute_result"
    }
   ],
   "source": [
    "get_elements(V)"
   ]
  },
  {
   "cell_type": "markdown",
   "metadata": {},
   "source": [
    "### Cardinality-based functions\n",
    "A cardinality-based submodular function can be formed by applying any concave function to the cardinality of a set.\n",
    "\n",
    "For example, the following cardinality-based function is called the permutation function. (We will see why below.)\n",
    "$$\n",
    "p(z) = -0.5z^2 + nz + 0.5z \\\\\n",
    "\\text{perm_func}(A) = p(|A|)\n",
    "$$"
   ]
  },
  {
   "cell_type": "code",
   "execution_count": 5,
   "metadata": {},
   "outputs": [
    {
     "data": {
      "text/plain": [
       "SubmodFunc with\n",
       "head: card\n",
       "size: (1, 1)\n",
       "sign: Convex.NoSign()\n",
       "modularity: CombiOpt.SubModularity()\n"
      ]
     },
     "execution_count": 5,
     "metadata": {},
     "output_type": "execute_result"
    }
   ],
   "source": [
    "p(z) = -0.5*z^2 + n*z + 0.5 * z\n",
    "perm_func = compose(p, card(V))"
   ]
  },
  {
   "cell_type": "markdown",
   "metadata": {},
   "source": [
    "### Associated polyhedra\n",
    "Many polyhedra are associated with any submodular function. For example, the submodular polyhedron is defined as\n",
    "$$\n",
    "\\text{SubmodPoly}(F) = \\{x \\in \\mathbb{R}^{|V|},\\ \\forall A \\subseteq V,\\ x(A) \\leq F(A)\\}\n",
    "$$\n",
    "We can form the submodular polyhedron of the permutation function as follows:"
   ]
  },
  {
   "cell_type": "code",
   "execution_count": 6,
   "metadata": {},
   "outputs": [
    {
     "data": {
      "text/plain": [
       "AssocPoly with\n",
       "head: subpoly\n",
       "baseset: [1, 2, 3, 4]\n",
       "associated to SubmodFunc with\n",
       "head: card\n",
       "size: (1, 1)\n",
       "sign: Convex.NoSign()\n",
       "modularity: CombiOpt.SubModularity()\n"
      ]
     },
     "execution_count": 6,
     "metadata": {},
     "output_type": "execute_result"
    }
   ],
   "source": [
    "P = SubmodPoly(perm_func)"
   ]
  },
  {
   "cell_type": "markdown",
   "metadata": {},
   "source": [
    "The vertices of the submodular polytope associated with the permutation function are the set of permutation vectors."
   ]
  },
  {
   "cell_type": "code",
   "execution_count": 7,
   "metadata": {},
   "outputs": [
    {
     "name": "stdout",
     "output_type": "stream",
     "text": [
      "[1, 2, 5, 3] is in P: false)\n",
      "[1, 2, 3, 3] is in P: true)\n"
     ]
    }
   ],
   "source": [
    "println(\"[1, 2, 5, 3] is in P: $([1, 2, 5, 3] in P))\")\n",
    "println(\"[1, 2, 3, 3] is in P: $([1, 2, 3, 3] in P))\")"
   ]
  },
  {
   "cell_type": "markdown",
   "metadata": {},
   "source": [
    "### Lovasz extensions\n",
    "Define the Lovasz extension $f: \\mathbb{R}^n \\to \\mathbb{R}$ of a submodular function $F$ by\n",
    "$$\n",
    "f(x) = \\text{lovasz}(F)(x) = \\sum\\limits_{i = 1}^{n}x_{j_i}(F(\\{j_{1}, j_{2}, \\dots, j_{i}\\}) - F(\\{j_{1}, j_{2}, \\dots, j_{i-1}\\})),\n",
    "$$\n",
    "where the permutation $(j_1, \\ldots, j_n)$ is defined such that\n",
    "$$\n",
    "x_{j_{1}} \\geq x_{j_{2}} \\geq \\dots \\geq x_{j_{n}}.\n",
    "$$"
   ]
  },
  {
   "cell_type": "code",
   "execution_count": 8,
   "metadata": {},
   "outputs": [
    {
     "data": {
      "text/plain": [
       "AbstractExpr with\n",
       "head: sum\n",
       "size: (1, 1)\n",
       "sign: Convex.NoSign()\n",
       "vexity: Convex.AffineVexity()\n"
      ]
     },
     "execution_count": 8,
     "metadata": {},
     "output_type": "execute_result"
    }
   ],
   "source": [
    "x = Variable(n)\n",
    "f = lovasz(mod_func, x)"
   ]
  },
  {
   "cell_type": "code",
   "execution_count": 9,
   "metadata": {},
   "outputs": [
    {
     "data": {
      "text/plain": [
       "15.0"
      ]
     },
     "execution_count": 9,
     "metadata": {},
     "output_type": "execute_result"
    }
   ],
   "source": [
    "evaluate(f, [3.5, 2.5, 1.5, 0.5])"
   ]
  },
  {
   "cell_type": "markdown",
   "metadata": {},
   "source": [
    "### Writing down and solving problems"
   ]
  },
  {
   "cell_type": "code",
   "execution_count": 10,
   "metadata": {},
   "outputs": [
    {
     "name": "stdout",
     "output_type": "stream",
     "text": [
      "0101\n",
      "0101\n"
     ]
    },
    {
     "data": {
      "text/plain": [
       "CombiOpt.SCOPEProblem{CombiOpt.ConvexProblem}(:minimize, AbstractExpr with\n",
       "head: +\n",
       "size: (1, 1)\n",
       "sign: Convex.NoSign()\n",
       "vexity: Convex.ConvexVexity()\n",
       ", Convex.Constraint[], \"not yet solved\", nothing, CombiOpt.ConvexProblem())"
      ]
     },
     "execution_count": 10,
     "metadata": {},
     "output_type": "execute_result"
    }
   ],
   "source": [
    "centre = n * rand(n)\n",
    "g = norm(x - centre)^2\n",
    "objective = g + f\n",
    "prob = SCOPEminimize(objective)"
   ]
  },
  {
   "cell_type": "code",
   "execution_count": 11,
   "metadata": {},
   "outputs": [
    {
     "name": "stdout",
     "output_type": "stream",
     "text": [
      "Problem\n",
      "  Name                   :                 \n",
      "  Objective sense        : min             \n",
      "  Type                   : CONIC (conic optimization problem)\n",
      "  Constraints            : 10              \n",
      "  Cones                  : 2               \n",
      "  Scalar variables       : 15              \n",
      "  Matrix variables       : 0               \n",
      "  Integer variables      : 0               \n",
      "\n",
      "Optimizer started.\n",
      "Presolve started.\n",
      "Linear dependency checker started.\n",
      "Linear dependency checker terminated.\n",
      "Eliminator started.\n",
      "Freed constraints in eliminator : 0\n",
      "Eliminator terminated.\n",
      "Eliminator - tries                  : 1                 time                   : 0.00            \n",
      "Lin. dep.  - tries                  : 1                 time                   : 0.00            \n",
      "Lin. dep.  - number                 : 0               \n",
      "Presolve terminated. Time: 0.00    \n",
      "Problem\n",
      "  Name                   :                 \n",
      "  Objective sense        : min             \n",
      "  Type                   : CONIC (conic optimization problem)\n",
      "  Constraints            : 10              \n",
      "  Cones                  : 2               \n",
      "  Scalar variables       : 15              \n",
      "  Matrix variables       : 0               \n",
      "  Integer variables      : 0               \n",
      "\n",
      "Optimizer  - threads                : 4               \n",
      "Optimizer  - solved problem         : the primal      \n",
      "Optimizer  - Constraints            : 2\n",
      "Optimizer  - Cones                  : 2\n",
      "Optimizer  - Scalar variables       : 5                 conic                  : 5               \n",
      "Optimizer  - Semi-definite variables: 0                 scalarized             : 0               \n",
      "Factor     - setup time             : 0.00              dense det. time        : 0.00            \n",
      "Factor     - ML order time          : 0.00              GP order time          : 0.00            \n",
      "Factor     - nonzeros before factor : 3                 after factor           : 3               \n",
      "Factor     - dense dim.             : 0                 flops                  : 2.70e+01        \n",
      "ITE PFEAS    DFEAS    GFEAS    PRSTATUS   POBJ              DOBJ              MU       TIME  \n",
      "0   5.0e-01  2.7e+00  1.5e+00  0.00e+00   1.536326334e+01   1.336326334e+01   1.0e+00  0.00  \n",
      "1   1.0e-01  5.5e-01  2.4e-01  -6.16e-01  7.693385965e+00   1.108785481e+01   2.0e-01  0.00  \n",
      "2   1.3e-02  7.2e-02  5.6e-02  4.63e-01   6.958215292e+00   8.403672870e+00   2.6e-02  0.00  \n",
      "3   1.1e-03  6.3e-03  1.4e-02  7.73e-01   6.856629346e+00   7.041250027e+00   2.3e-03  0.00  \n",
      "4   2.8e-05  1.5e-04  2.1e-03  9.72e-01   6.863162990e+00   6.867882900e+00   5.5e-05  0.00  \n",
      "5   2.7e-07  1.5e-06  2.1e-04  9.98e-01   6.863262894e+00   6.863309430e+00   5.3e-07  0.00  \n",
      "6   2.2e-09  1.2e-08  1.9e-05  1.00e+00   6.863263337e+00   6.863263715e+00   4.3e-09  0.00  \n",
      "Optimizer terminated. Time: 0.01    \n",
      "\n",
      "\n",
      "Interior-point solution summary\n",
      "  Problem status  : PRIMAL_AND_DUAL_FEASIBLE\n",
      "  Solution status : OPTIMAL\n",
      "  Primal.  obj: 6.8632633370e+00    nrm: 8e+00    Viol.  con: 7e-08    var: 0e+00    cones: 0e+00  \n",
      "  Dual.    obj: 6.8632637146e+00    nrm: 5e+00    Viol.  con: 0e+00    var: 7e-08    cones: 0e+00  \n"
     ]
    },
    {
     "ename": "LoadError",
     "evalue": "\u001b[91mtype SCOPEProblem has no field solution\u001b[39m",
     "output_type": "error",
     "traceback": [
      "\u001b[91mtype SCOPEProblem has no field solution\u001b[39m",
      "",
      "Stacktrace:",
      " [1] \u001b[1m#solve!#30\u001b[22m\u001b[22m\u001b[1m(\u001b[22m\u001b[22m::Mosek.MosekSolver, ::Function, ::CombiOpt.SCOPEProblem{CombiOpt.ConvexProblem}\u001b[1m)\u001b[22m\u001b[22m at \u001b[1m/Users/ants_arctic/.julia/v0.6/CombiOpt.jl/src/solutions.jl:13\u001b[22m\u001b[22m",
      " [2] \u001b[1msolve!\u001b[22m\u001b[22m\u001b[1m(\u001b[22m\u001b[22m::CombiOpt.SCOPEProblem{CombiOpt.ConvexProblem}\u001b[1m)\u001b[22m\u001b[22m at \u001b[1m/Users/ants_arctic/.julia/v0.6/CombiOpt.jl/src/solutions.jl:9\u001b[22m\u001b[22m",
      " [3] \u001b[1minclude_string\u001b[22m\u001b[22m\u001b[1m(\u001b[22m\u001b[22m::String, ::String\u001b[1m)\u001b[22m\u001b[22m at \u001b[1m./loading.jl:515\u001b[22m\u001b[22m"
     ]
    }
   ],
   "source": [
    "solve!(prob)"
   ]
  },
  {
   "cell_type": "code",
   "execution_count": 16,
   "metadata": {},
   "outputs": [
    {
     "name": "stdout",
     "output_type": "stream",
     "text": [
      "0101\n"
     ]
    }
   ],
   "source": [
    "if prob.objective.head == :+\n",
    "    lonum = 0                                         # number of lovasz extensions\n",
    "    loind = 1                                         # index of lovasz extensions\n",
    "    lanum = 0                                         # number of lovasz + abs\n",
    "    laind = 1                                         # index of lovasz + abs\n",
    "    childnum = length(prob.objective.children)\n",
    "    for i = 1:childnum\n",
    "      if prob.objective.children[i].head == :lovasz\n",
    "        lonum += 1\n",
    "        loind = i\n",
    "      elseif prob.objective.children[i].head == :lovaszabs\n",
    "        lanum += 1\n",
    "        laind = i\n",
    "      end\n",
    "    end\n",
    "    println(lonum, loind, lanum, laind)\n",
    "end"
   ]
  },
  {
   "cell_type": "code",
   "execution_count": 22,
   "metadata": {},
   "outputs": [
    {
     "data": {
      "text/plain": [
       "AbstractExpr with\n",
       "head: sum\n",
       "size: (1, 1)\n",
       "sign: Convex.NoSign()\n",
       "vexity: Convex.AffineVexity()\n"
      ]
     },
     "execution_count": 22,
     "metadata": {},
     "output_type": "execute_result"
    }
   ],
   "source": [
    "prob.objective.children[2]"
   ]
  },
  {
   "cell_type": "code",
   "execution_count": null,
   "metadata": {
    "collapsed": true
   },
   "outputs": [],
   "source": []
  }
 ],
 "metadata": {
  "kernelspec": {
   "display_name": "Julia 0.6.0",
   "language": "julia",
   "name": "julia-0.6"
  },
  "language_info": {
   "file_extension": ".jl",
   "mimetype": "application/julia",
   "name": "julia",
   "version": "0.6.0"
  }
 },
 "nbformat": 4,
 "nbformat_minor": 2
}
