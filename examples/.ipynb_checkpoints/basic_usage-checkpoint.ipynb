{
 "cells": [
  {
   "cell_type": "code",
   "execution_count": 1,
   "metadata": {
    "collapsed": true
   },
   "outputs": [],
   "source": [
    "using CombiOpt"
   ]
  },
  {
   "cell_type": "markdown",
   "metadata": {},
   "source": [
    "### Set variables and set functions\n",
    "A modular function\n",
    "$$\n",
    "F(\\alpha, A) = \\sum\\limits_{i \\in A}\\alpha_{i}\n",
    "$$\n",
    "is easy to implement."
   ]
  },
  {
   "cell_type": "code",
   "execution_count": 2,
   "metadata": {},
   "outputs": [
    {
     "data": {
      "text/plain": [
       "CombiFunc with\n",
       "head: modular\n",
       "size: (1, 1)\n",
       "sign: Convex.NoSign()\n",
       "modularity: CombiOpt.Modularity()\n"
      ]
     },
     "execution_count": 2,
     "metadata": {},
     "output_type": "execute_result"
    }
   ],
   "source": [
    "n = 4\n",
    "V = SetVariable(n)\n",
    "α = [1, 2, 3, 4]\n",
    "mod_func = modular(α, V)"
   ]
  },
  {
   "cell_type": "code",
   "execution_count": 3,
   "metadata": {},
   "outputs": [
    {
     "data": {
      "text/plain": [
       "1×1 Array{Float64,2}:\n",
       " 4.0"
      ]
     },
     "execution_count": 3,
     "metadata": {},
     "output_type": "execute_result"
    }
   ],
   "source": [
    "evaluate(mod_func, [1, 3])"
   ]
  },
  {
   "cell_type": "code",
   "execution_count": 4,
   "metadata": {},
   "outputs": [
    {
     "data": {
      "text/plain": [
       "2-element Array{Int64,1}:\n",
       " 1\n",
       " 3"
      ]
     },
     "execution_count": 4,
     "metadata": {},
     "output_type": "execute_result"
    }
   ],
   "source": [
    "get_elements(V)"
   ]
  },
  {
   "cell_type": "markdown",
   "metadata": {},
   "source": [
    "### Cardinality-based functions\n",
    "A cardinality-based submodular function can be formed by applying any concave function to the cardinality of a set.\n",
    "\n",
    "For example, the following cardinality-based function is called the permutation function. (We will see why below.)\n",
    "$$\n",
    "p(z) = -0.5z^2 + nz + 0.5z \\\\\n",
    "\\text{perm_func}(A) = p(|A|)\n",
    "$$"
   ]
  },
  {
   "cell_type": "code",
   "execution_count": 5,
   "metadata": {},
   "outputs": [
    {
     "data": {
      "text/plain": [
       "CombiFunc with\n",
       "head: card\n",
       "size: (1, 1)\n",
       "sign: Convex.NoSign()\n",
       "modularity: CombiOpt.SubModularity()\n"
      ]
     },
     "execution_count": 5,
     "metadata": {},
     "output_type": "execute_result"
    }
   ],
   "source": [
    "p(z) = -0.5*z^2 + n*z + 0.5 * z\n",
    "perm_func = compose(p, card(V))"
   ]
  },
  {
   "cell_type": "markdown",
   "metadata": {},
   "source": [
    "### Associated polyhedra\n",
    "Many polyhedra are associated with any submodular function. For example, the submodular polyhedron is defined as\n",
    "$$\n",
    "\\text{SubmodPoly}(F) = \\{x \\in \\mathbb{R}^{|V|},\\ \\forall A \\subseteq V,\\ x(A) \\leq F(A)\\}\n",
    "$$\n",
    "We can form the submodular polyhedron of the permutation function as follows:"
   ]
  },
  {
   "cell_type": "code",
   "execution_count": 6,
   "metadata": {},
   "outputs": [
    {
     "data": {
      "text/plain": [
       "AssocPoly with\n",
       "head: subpoly\n",
       "baseset: [1, 2, 3, 4]\n",
       "associated to CombiFunc with\n",
       "head: card\n",
       "size: (1, 1)\n",
       "sign: Convex.NoSign()\n",
       "modularity: CombiOpt.SubModularity()\n"
      ]
     },
     "execution_count": 6,
     "metadata": {},
     "output_type": "execute_result"
    }
   ],
   "source": [
    "P = SubmodPoly(perm_func)"
   ]
  },
  {
   "cell_type": "markdown",
   "metadata": {},
   "source": [
    "The vertices of the submodular polytope associated with the permutation function are the set of permutation vectors."
   ]
  },
  {
   "cell_type": "code",
   "execution_count": 7,
   "metadata": {},
   "outputs": [
    {
     "name": "stdout",
     "output_type": "stream",
     "text": [
      "[1, 2, 5, 3] is in P: false)\n",
      "[1, 2, 3, 3] is in P: true)\n"
     ]
    }
   ],
   "source": [
    "println(\"[1, 2, 5, 3] is in P: $([1, 2, 5, 3] in P))\")\n",
    "println(\"[1, 2, 3, 3] is in P: $([1, 2, 3, 3] in P))\")"
   ]
  },
  {
   "cell_type": "markdown",
   "metadata": {},
   "source": [
    "### Lovasz extensions\n",
    "Define the Lovasz extension $f: \\mathbb{R}^n \\to \\mathbb{R}$ of a submodular function $F$ by\n",
    "$$\n",
    "f(x) = \\text{lovasz}(F)(x) = \\sum\\limits_{i = 1}^{n}x_{j_i}(F(\\{j_{1}, j_{2}, \\dots, j_{i}\\}) - F(\\{j_{1}, j_{2}, \\dots, j_{i-1}\\})),\n",
    "$$\n",
    "where the permutation $(j_1, \\ldots, j_n)$ is defined such that\n",
    "$$\n",
    "x_{j_{1}} \\geq x_{j_{2}} \\geq \\dots \\geq x_{j_{n}}.\n",
    "$$"
   ]
  },
  {
   "cell_type": "code",
   "execution_count": 8,
   "metadata": {},
   "outputs": [
    {
     "data": {
      "text/plain": [
       "AbstractExpr with\n",
       "head: lovasz\n",
       "size: (1, 1)\n",
       "sign: Convex.NoSign()\n",
       "vexity: Convex.AffineVexity()\n"
      ]
     },
     "execution_count": 8,
     "metadata": {},
     "output_type": "execute_result"
    }
   ],
   "source": [
    "x = Variable(n)\n",
    "f = lovasz(mod_func, x)"
   ]
  },
  {
   "cell_type": "code",
   "execution_count": 9,
   "metadata": {},
   "outputs": [
    {
     "data": {
      "text/plain": [
       "1×1 Array{Float64,2}:\n",
       " 15.0"
      ]
     },
     "execution_count": 9,
     "metadata": {},
     "output_type": "execute_result"
    }
   ],
   "source": [
    "evaluate(f, [3.5, 2.5, 1.5, 0.5])"
   ]
  },
  {
   "cell_type": "markdown",
   "metadata": {},
   "source": [
    "### Writing down and solving problems"
   ]
  },
  {
   "cell_type": "code",
   "execution_count": 10,
   "metadata": {},
   "outputs": [
    {
     "data": {
      "text/plain": [
       "CombiOpt.SCOPEPrimal(:minimize, AbstractExpr with\n",
       "head: +\n",
       "size: (1, 1)\n",
       "sign: Convex.NoSign()\n",
       "vexity: Convex.ConvexVexity()\n",
       ", Convex.Constraint[], Symbol(\"not yet solved\"), nothing, CombiOpt.ConvexLovasz(Problem:\n",
       "minimize AbstractExpr with\n",
       "head: qol_elem\n",
       "size: (1, 1)\n",
       "sign: Convex.Positive()\n",
       "vexity: Convex.ConvexVexity()\n",
       "\n",
       "subject to\n",
       "\n",
       "current status: not yet solved, AbstractExpr with\n",
       "head: lovasz\n",
       "size: (1, 1)\n",
       "sign: Convex.NoSign()\n",
       "vexity: Convex.AffineVexity()\n",
       "), #undef)"
      ]
     },
     "execution_count": 10,
     "metadata": {},
     "output_type": "execute_result"
    }
   ],
   "source": [
    "centre = n * rand(n)\n",
    "g = norm(x - centre)^2\n",
    "objective = g + f\n",
    "prob = SCOPEminimize(objective)"
   ]
  },
  {
   "cell_type": "code",
   "execution_count": 11,
   "metadata": {},
   "outputs": [
    {
     "data": {
      "text/plain": [
       "4-element Array{Float64,1}:\n",
       "  0.110338 \n",
       "  0.904086 \n",
       "  0.666883 \n",
       " -0.0940381"
      ]
     },
     "execution_count": 11,
     "metadata": {},
     "output_type": "execute_result"
    }
   ],
   "source": [
    "solve!(prob)"
   ]
  }
 ],
 "metadata": {
  "kernelspec": {
   "display_name": "Julia 0.6.0",
   "language": "julia",
   "name": "julia-0.6"
  },
  "language_info": {
   "file_extension": ".jl",
   "mimetype": "application/julia",
   "name": "julia",
   "version": "0.6.0"
  }
 },
 "nbformat": 4,
 "nbformat_minor": 2
}
